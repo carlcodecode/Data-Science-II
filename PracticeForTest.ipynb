{
  "nbformat": 4,
  "nbformat_minor": 0,
  "metadata": {
    "colab": {
      "provenance": [],
      "gpuType": "A100",
      "authorship_tag": "ABX9TyPvrJGu48AUO93js7Pyxl2V",
      "include_colab_link": true
    },
    "kernelspec": {
      "name": "python3",
      "display_name": "Python 3"
    },
    "language_info": {
      "name": "python"
    },
    "accelerator": "GPU"
  },
  "cells": [
    {
      "cell_type": "markdown",
      "metadata": {
        "id": "view-in-github",
        "colab_type": "text"
      },
      "source": [
        "<a href=\"https://colab.research.google.com/github/carlcodecode/Data-Science-II/blob/main/PracticeForTest.ipynb\" target=\"_parent\"><img src=\"https://colab.research.google.com/assets/colab-badge.svg\" alt=\"Open In Colab\"/></a>"
      ]
    },
    {
      "cell_type": "code",
      "execution_count": 1,
      "metadata": {
        "colab": {
          "base_uri": "https://localhost:8080/"
        },
        "id": "q28rLM3Ui_Qa",
        "outputId": "de2f1be4-68d5-45f1-b2a2-abe13b744807"
      },
      "outputs": [
        {
          "output_type": "stream",
          "name": "stderr",
          "text": [
            "100%|██████████| 9.91M/9.91M [00:02<00:00, 4.80MB/s]\n",
            "100%|██████████| 28.9k/28.9k [00:00<00:00, 124kB/s]\n",
            "100%|██████████| 1.65M/1.65M [00:01<00:00, 1.18MB/s]\n",
            "100%|██████████| 4.54k/4.54k [00:00<00:00, 7.90MB/s]\n"
          ]
        }
      ],
      "source": [
        "import numpy as np\n",
        "import torch\n",
        "import torch.nn as nn\n",
        "from torchvision import transforms, datasets\n",
        "\n",
        "transform = transforms.Compose([transforms.ToTensor()]) #Convert data to tensor\n",
        "train_data = datasets.MNIST(root=\"data\", train=True, download=True, transform=transform)\n",
        "test_data = datasets.MNIST(root=\"data\", train=True, download=True, transform=transform)"
      ]
    },
    {
      "cell_type": "code",
      "source": [
        "from torch.utils.data import DataLoader\n",
        "\n",
        "BATCH_SIZE = 64\n",
        "\n",
        "#splitting the data into managable mini-batches\n",
        "\n",
        "train_loader = DataLoader(dataset=train_data, batch_size=BATCH_SIZE, shuffle=True)\n",
        "test_load = DataLoader(dataset=test_data, batch_size=BATCH_SIZE, shuffle=True)"
      ],
      "metadata": {
        "id": "ayvnVahentH0"
      },
      "execution_count": 2,
      "outputs": []
    },
    {
      "cell_type": "code",
      "source": [
        "#initializing the model\n",
        "\n",
        "class SimpleNN(nn.Module):\n",
        "  def __init__(self, input_dim, output_dim):\n",
        "    super().__init__()\n",
        "    self.flatten = nn.Flatten()\n",
        "    self.fc1 = nn.Linear(input_dim, 128)\n",
        "    self.relu = nn.ReLU()\n",
        "    self.fc2 = nn.Linear(128, output_dim)\n",
        "\n",
        "  def forward(self, x):\n",
        "    x = self.flatten(x)\n",
        "    x = self.fc1(x)\n",
        "    x = self.relu(x)\n",
        "    x = self.fc2(x)\n",
        "    return x\n"
      ],
      "metadata": {
        "id": "J49UioWXob70"
      },
      "execution_count": 3,
      "outputs": []
    },
    {
      "cell_type": "code",
      "source": [
        "import torch.optim as optim\n",
        "\n",
        "device = torch.device(\"cuda\" if torch.cuda.is_available() else \"cpu\")\n",
        "\n",
        "# Set up epochs and learning rate\n",
        "epochs = 5\n",
        "lr = 0.01\n",
        "\n",
        "# Set up model\n",
        "model = SimpleNN(input_dim=28*28, output_dim=10).to(device)\n",
        "\n",
        "# Loss function and optimizer\n",
        "loss_fn = nn.CrossEntropyLoss()\n",
        "optimizer = optim.Adam(model.parameters(), lr=lr)"
      ],
      "metadata": {
        "id": "v107ytdMqTJH"
      },
      "execution_count": 4,
      "outputs": []
    },
    {
      "cell_type": "code",
      "source": [
        "#Training loop\n",
        "\n",
        "for epoch in range(epochs):\n",
        "  model.train()\n",
        "  running_loss = 0.0\n",
        "\n",
        "  for X_batch, y_batch in train_loader:   # iterate over the data loader\n",
        "\n",
        "    X_batch, y_batch = X_batch.to(device), y_batch.to(device)\n",
        "\n",
        "    # forward pass\n",
        "    logits = model(X_batch)\n",
        "\n",
        "    # calculate loss\n",
        "    loss = loss_fn(logits, y_batch) # like loss y_hat vs y_true\n",
        "\n",
        "    # 3 step mantra\n",
        "    optimizer.zero_grad()\n",
        "    loss.backward()\n",
        "    optimizer.step()\n",
        "\n",
        "    running_loss += loss.item()\n",
        "\n",
        "  print(f\"Epoch {epoch+1}: Loss = {running_loss / len(train_loader)}\")"
      ],
      "metadata": {
        "colab": {
          "base_uri": "https://localhost:8080/"
        },
        "id": "bcCS-eHvr3kf",
        "outputId": "b28f9508-4ecb-4004-d987-c2a3efda37fe"
      },
      "execution_count": 6,
      "outputs": [
        {
          "output_type": "stream",
          "name": "stdout",
          "text": [
            "Epoch 1: Loss = 0.10857722012406544\n",
            "Epoch 2: Loss = 0.09910962501408478\n",
            "Epoch 3: Loss = 0.09240109827323531\n",
            "Epoch 4: Loss = 0.08994934585498103\n",
            "Epoch 5: Loss = 0.07726363078059345\n"
          ]
        }
      ]
    },
    {
      "cell_type": "code",
      "source": [
        "model.eval() #set to evaluation mode\n",
        "\n",
        "correct = 0\n",
        "total = 0\n",
        "\n",
        "with torch.no_grad():   #disable gradient calc\n",
        "  for X_batch, y_batch in test_load:\n",
        "    X_batch, y_batch = X_batch.to(device), y_batch.to(device)\n",
        "    outputs = model(X_batch)\n",
        "\n",
        "    _, predicted = torch.max(outputs.data, dim=1)\n",
        "    total += y_batch.size(dim=0) #shape of model is (BATCH_SIZE, num_classes)\n",
        "    correct += (predicted == y_batch).sum().item()\n",
        "\n",
        "accuracy = 100 * correct / total\n",
        "print(f\"Accuracy of model: {accuracy}\")\n"
      ],
      "metadata": {
        "colab": {
          "base_uri": "https://localhost:8080/"
        },
        "id": "ioXaFIJbt52w",
        "outputId": "ba5f83ad-82bd-4d81-b6ec-53b7b51bfc60"
      },
      "execution_count": 9,
      "outputs": [
        {
          "output_type": "stream",
          "name": "stdout",
          "text": [
            "Accuracy of model: 98.135\n"
          ]
        }
      ]
    },
    {
      "cell_type": "code",
      "source": [],
      "metadata": {
        "id": "LNqJzytiyaTr"
      },
      "execution_count": null,
      "outputs": []
    }
  ]
}