{
  "nbformat": 4,
  "nbformat_minor": 0,
  "metadata": {
    "colab": {
      "provenance": [],
      "gpuType": "T4",
      "authorship_tag": "ABX9TyMFT8+qOJBA6SZAWH4/nksb",
      "include_colab_link": true
    },
    "kernelspec": {
      "name": "python3",
      "display_name": "Python 3"
    },
    "language_info": {
      "name": "python"
    },
    "accelerator": "GPU"
  },
  "cells": [
    {
      "cell_type": "markdown",
      "metadata": {
        "id": "view-in-github",
        "colab_type": "text"
      },
      "source": [
        "<a href=\"https://colab.research.google.com/github/carlcodecode/Data-Science-II/blob/main/SimpleCNNforTest.ipynb\" target=\"_parent\"><img src=\"https://colab.research.google.com/assets/colab-badge.svg\" alt=\"Open In Colab\"/></a>"
      ]
    },
    {
      "cell_type": "code",
      "execution_count": 3,
      "metadata": {
        "colab": {
          "base_uri": "https://localhost:8080/"
        },
        "id": "RBM0wgGX0fgc",
        "outputId": "a4cc78d2-7a5c-4e10-b95f-4963108bbe5a"
      },
      "outputs": [
        {
          "output_type": "stream",
          "name": "stdout",
          "text": [
            "Tesla T4\n"
          ]
        }
      ],
      "source": [
        "import torch\n",
        "\n",
        "device = torch.device(\"cuda\" if torch.cuda.is_available() else \"cpu\")\n",
        "\n",
        "print(torch.cuda.get_device_name(torch.cuda.current_device()))\n"
      ]
    },
    {
      "cell_type": "code",
      "source": [
        "from torchvision import datasets, transforms\n",
        "from torch.utils.data import DataLoader\n",
        "\n",
        "transform = transforms.Compose([transforms.ToTensor(), transforms.Normalize((0.5,0.5,0.5), (0.5,0.5,0.5))])\n",
        "train_data = datasets.CIFAR10(root=\"data\", train=True, download=True, transform=transform)\n",
        "test_data = datasets.CIFAR10(root=\"data\", train=False, download=True, transform=transform)\n",
        "\n",
        "train_loader = DataLoader(train_data, batch_size=1024, shuffle=True)\n",
        "test_loader = DataLoader(test_data, batch_size=1024, shuffle=True)"
      ],
      "metadata": {
        "id": "g2rqnWLf01fJ"
      },
      "execution_count": 6,
      "outputs": []
    },
    {
      "cell_type": "code",
      "source": [
        "import torch.nn as nn\n",
        "import torch.nn.functional as F\n",
        "\n",
        "class CNN(nn.Module):\n",
        "  def __init__(self):\n",
        "    super().__init__()\n",
        "    # 3 input channels, 6 output channels, 5x5 kernel\n",
        "    self.conv1 = nn.Conv2d(3, 6, 5)\n",
        "\n",
        "    # 2x2 max pooling\n",
        "    self.pool = nn.MaxPool2d(2, 2)\n",
        "\n",
        "    # 6 input (from the last output), 16 output, 5x5 kernel\n",
        "    self.conv2 = nn.Conv2d(6, 16, 5)\n",
        "\n",
        "    #connected layers\n",
        "    self.fc1 = nn.Linear(16 * 5 * 5, 120)\n",
        "    self.fc2 = nn.Linear(120, 84)\n",
        "    self.fc3 = nn.Linear(84, 10)\n",
        "\n",
        "  def forward(self, x):\n",
        "    # first convolutional layer\n",
        "    x = self.conv1(x)\n",
        "    x = F.relu(x)\n",
        "    x = self.pool(x)\n",
        "\n",
        "    # second convolutional layer\n",
        "    x = self.conv2(x)\n",
        "    x = F.relu(x)\n",
        "    x = self.pool(x)\n",
        "\n",
        "    # flatten\n",
        "    x = torch.flatten(x, 1)   # flatten all dim except batch\n",
        "\n",
        "    # go through fully connected layers\n",
        "    x = self.fc1(x)\n",
        "    x = F.relu(x)\n",
        "    x = self.fc2(x)\n",
        "    x = F.relu(x)\n",
        "    x = self.fc3(x)\n",
        "\n",
        "    return x\n",
        "\n",
        "\n",
        "\n"
      ],
      "metadata": {
        "id": "e6VBobhv3yXV"
      },
      "execution_count": 9,
      "outputs": []
    },
    {
      "cell_type": "code",
      "source": [
        "import torch.optim as optim\n",
        "\n",
        "model = CNN().to(device)\n",
        "optimizer = optim.Adam(model.parameters(), lr = 0.001)\n",
        "loss_fn = nn.CrossEntropyLoss()\n",
        "\n",
        "epochs = 10\n",
        "\n",
        "for epoch in range(epochs):\n",
        "  model.train()\n",
        "  running_loss = 0.0\n",
        "  for X_batch, y_batch in train_loader:\n",
        "    X_batch, y_batch = X_batch.to(device), y_batch.to(device)\n",
        "\n",
        "    # forward pass\n",
        "    logits = model(X_batch)\n",
        "\n",
        "    # compute loss\n",
        "    loss = loss_fn(logits, y_batch)\n",
        "\n",
        "    # three step mantra\n",
        "    optimizer.zero_grad()\n",
        "    loss.backward()\n",
        "    optimizer.step()\n",
        "\n",
        "    running_loss += loss.item()\n",
        "\n",
        "  print(f\"Epoch {epoch+1}: Loss = {(running_loss / len(train_loader)):.4f}\")\n",
        "\n",
        "\n"
      ],
      "metadata": {
        "colab": {
          "base_uri": "https://localhost:8080/"
        },
        "id": "WxormGn86YQF",
        "outputId": "c1ab252b-f63b-4d07-93f5-8eac3a5e61d8"
      },
      "execution_count": 10,
      "outputs": [
        {
          "output_type": "stream",
          "name": "stdout",
          "text": [
            "Epoch 1: Loss = 2.0590\n",
            "Epoch 2: Loss = 1.7530\n",
            "Epoch 3: Loss = 1.6041\n",
            "Epoch 4: Loss = 1.5094\n",
            "Epoch 5: Loss = 1.4566\n",
            "Epoch 6: Loss = 1.4154\n",
            "Epoch 7: Loss = 1.3833\n",
            "Epoch 8: Loss = 1.3530\n",
            "Epoch 9: Loss = 1.3288\n",
            "Epoch 10: Loss = 1.3022\n"
          ]
        }
      ]
    },
    {
      "cell_type": "code",
      "source": [
        "# testing\n",
        "\n",
        "model.eval()\n",
        "correct = 0\n",
        "total = 0\n",
        "with torch.no_grad():\n",
        "  for X_batch, y_batch in test_loader:\n",
        "    X_batch, y_batch = X_batch.to(device), y_batch.to(device)\n",
        "\n",
        "    outputs = model(X_batch)\n",
        "\n",
        "    _, predictions = torch.max(outputs.data, dim=1)\n",
        "    correct += (predictions == y_batch).sum().item()\n",
        "    total += y_batch.size(dim=0)\n",
        "\n",
        "  print(f\"Accuracy = {100 * correct / total}\")\n"
      ],
      "metadata": {
        "colab": {
          "base_uri": "https://localhost:8080/"
        },
        "id": "hRDY8DcZ9UAN",
        "outputId": "1744f359-a703-4287-86cf-a9dede9030a1"
      },
      "execution_count": 11,
      "outputs": [
        {
          "output_type": "stream",
          "name": "stdout",
          "text": [
            "Accuracy = 51.96\n"
          ]
        }
      ]
    },
    {
      "cell_type": "code",
      "source": [],
      "metadata": {
        "id": "QZXZNsTR_IJD"
      },
      "execution_count": null,
      "outputs": []
    }
  ]
}