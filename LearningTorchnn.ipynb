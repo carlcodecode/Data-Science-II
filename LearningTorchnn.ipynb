{
  "nbformat": 4,
  "nbformat_minor": 0,
  "metadata": {
    "colab": {
      "provenance": [],
      "authorship_tag": "ABX9TyNEjCW2VMdpElsSm+vxpJ7u",
      "include_colab_link": true
    },
    "kernelspec": {
      "name": "python3",
      "display_name": "Python 3"
    },
    "language_info": {
      "name": "python"
    }
  },
  "cells": [
    {
      "cell_type": "markdown",
      "metadata": {
        "id": "view-in-github",
        "colab_type": "text"
      },
      "source": [
        "<a href=\"https://colab.research.google.com/github/carlcodecode/Data-Science-II/blob/main/LearningTorchnn.ipynb\" target=\"_parent\"><img src=\"https://colab.research.google.com/assets/colab-badge.svg\" alt=\"Open In Colab\"/></a>"
      ]
    },
    {
      "cell_type": "code",
      "execution_count": 1,
      "metadata": {
        "colab": {
          "base_uri": "https://localhost:8080/"
        },
        "id": "vmsdVe5TYOvK",
        "outputId": "21288b24-ad7a-44af-c2c3-5c2af2939730"
      },
      "outputs": [
        {
          "output_type": "stream",
          "name": "stdout",
          "text": [
            "Layer weight (W): Parameter containing:\n",
            "tensor([[0.1010]], requires_grad=True)\n",
            "Layer bias (b): Parameter containing:\n",
            "tensor([0.0539], requires_grad=True)\n"
          ]
        }
      ],
      "source": [
        "import torch\n",
        "import torch.nn as nn\n",
        "\n",
        "#input has 1 feature, output has one value\n",
        "D_in = 1\n",
        "D_out = 1\n",
        "\n",
        "#Create linear layer\n",
        "linear_layer = nn.Linear(in_features = D_in, out_features=D_out)\n",
        "\n",
        "print(f\"Layer weight (W): {linear_layer.weight}\")   # chooses weights and requires_grad=True automatically\n",
        "print(f\"Layer bias (b): {linear_layer.bias}\")       # chooses bias and requires_grad=True automatically"
      ]
    },
    {
      "cell_type": "code",
      "source": [
        "X = torch.randn(10, D_in)"
      ],
      "metadata": {
        "id": "99yV2u2SY2Ms"
      },
      "execution_count": 2,
      "outputs": []
    },
    {
      "cell_type": "code",
      "source": [
        "y_hat_nn = linear_layer(X)\n",
        "print(f\"Output of nn.Linear: {y_hat_nn}\")"
      ],
      "metadata": {
        "colab": {
          "base_uri": "https://localhost:8080/"
        },
        "id": "3COrB3CMZEJb",
        "outputId": "55ffc0f3-9acc-4e0a-ccf9-b4f6b5625c29"
      },
      "execution_count": 3,
      "outputs": [
        {
          "output_type": "stream",
          "name": "stdout",
          "text": [
            "Output of nn.Linear: tensor([[ 0.1685],\n",
            "        [ 0.0353],\n",
            "        [ 0.0130],\n",
            "        [ 0.0611],\n",
            "        [ 0.0102],\n",
            "        [-0.0775],\n",
            "        [ 0.0280],\n",
            "        [ 0.0396],\n",
            "        [ 0.0881],\n",
            "        [ 0.1580]], grad_fn=<AddmmBackward0>)\n"
          ]
        }
      ]
    },
    {
      "cell_type": "code",
      "source": [
        "relu = nn.ReLU()\n",
        "sample_data = torch.tensor([-2.0, -0.5, 0.0, 0.5, 2.0])\n",
        "activated_data = relu(sample_data)\n",
        "print(f\"Original Data: {sample_data}\")\n",
        "print(f\"Data after ReLU: {activated_data}\")"
      ],
      "metadata": {
        "colab": {
          "base_uri": "https://localhost:8080/"
        },
        "id": "5jzq3aDCZO_p",
        "outputId": "6276ee00-7614-498d-c5d4-e3328e548d67"
      },
      "execution_count": 6,
      "outputs": [
        {
          "output_type": "stream",
          "name": "stdout",
          "text": [
            "Original Data: tensor([-2.0000, -0.5000,  0.0000,  0.5000,  2.0000])\n",
            "Data after ReLU: tensor([0.0000, 0.0000, 0.0000, 0.5000, 2.0000])\n"
          ]
        }
      ]
    },
    {
      "cell_type": "code",
      "source": [],
      "metadata": {
        "id": "xbYcewkJanOh"
      },
      "execution_count": null,
      "outputs": []
    }
  ]
}